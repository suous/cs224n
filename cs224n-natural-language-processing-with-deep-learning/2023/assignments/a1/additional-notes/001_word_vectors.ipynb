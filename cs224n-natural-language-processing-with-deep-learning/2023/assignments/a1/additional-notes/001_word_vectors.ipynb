{
 "cells": [
  {
   "cell_type": "code",
   "execution_count": null,
   "id": "ec3ca444-8521-4a35-8bc7-252d2a63cf3b",
   "metadata": {},
   "outputs": [],
   "source": [
    "import pandas as pd\n",
    "import numpy as np\n",
    "import matplotlib.pyplot as plt\n",
    "from nltk.corpus import reuters\n",
    "from sklearn.decomposition import TruncatedSVD"
   ]
  },
  {
   "cell_type": "markdown",
   "id": "ad3b4933-73db-4b6b-aeff-32bffa092207",
   "metadata": {},
   "source": [
    "**Example: Co-Occurrence with Fixed Window of n=1**:\n",
    "\n",
    "Document 1: \"all that glitters is not gold\"\n",
    "\n",
    "Document 2: \"all is well that ends well\"\n",
    "\n",
    "\n",
    "|     *    | `<START>` | all | that | glitters | is   | not  | gold  | well | ends | `<END>` |\n",
    "|----------|-------|-----|------|----------|------|------|-------|------|------|-----|\n",
    "| `<START>`    | 0     | 2   | 0    | 0        | 0    | 0    | 0     | 0    | 0    | 0   |\n",
    "| all      | 2     | 0   | 1    | 0        | 1    | 0    | 0     | 0    | 0    | 0   |\n",
    "| that     | 0     | 1   | 0    | 1        | 0    | 0    | 0     | 1    | 1    | 0   |\n",
    "| glitters | 0     | 0   | 1    | 0        | 1    | 0    | 0     | 0    | 0    | 0   |\n",
    "| is       | 0     | 1   | 0    | 1        | 0    | 1    | 0     | 1    | 0    | 0   |\n",
    "| not      | 0     | 0   | 0    | 0        | 1    | 0    | 1     | 0    | 0    | 0   |\n",
    "| gold     | 0     | 0   | 0    | 0        | 0    | 1    | 0     | 0    | 0    | 1   |\n",
    "| well     | 0     | 0   | 1    | 0        | 1    | 0    | 0     | 0    | 1    | 1   |\n",
    "| ends     | 0     | 0   | 1    | 0        | 0    | 0    | 0     | 1    | 0    | 0   |\n",
    "| `<END>`      | 0     | 0   | 0    | 0        | 0    | 0    | 1     | 1    | 0    | 0   |"
   ]
  },
  {
   "cell_type": "code",
   "execution_count": null,
   "id": "d445f216-c09c-4bf7-a0c0-13f6a946d5b1",
   "metadata": {},
   "outputs": [],
   "source": [
    "START_TOKEN = \"<START>\"\n",
    "END_TOKEN = \"<END>\"\n",
    "\n",
    "documents = [\n",
    "    [START_TOKEN] + \"all that glitters is not gold\".split() + [END_TOKEN],\n",
    "    [START_TOKEN] + \"all is well that ends well\".split() + [END_TOKEN],\n",
    "]\n",
    "\n",
    "columns = [START_TOKEN] + \"all that glitters is not gold well ends\".split() + [END_TOKEN]\n",
    "co_df = pd.DataFrame(0, index=columns, columns=columns)\n",
    "\n",
    "for doc in documents:\n",
    "    # boundary words\n",
    "    start_token, start_word, *_, end_word, end_token = doc\n",
    "    co_df.loc[start_token, start_word] += 1\n",
    "    co_df.loc[end_token, end_word] += 1\n",
    "\n",
    "    # center words\n",
    "    for win in np.lib.stride_tricks.sliding_window_view(doc, window_shape=3):\n",
    "        prefix_word, center_word, surfix_word = win\n",
    "        co_df.loc[center_word, [prefix_word, surfix_word]] += 1\n",
    "co_df"
   ]
  },
  {
   "cell_type": "code",
   "execution_count": null,
   "outputs": [],
   "source": [
    "files = reuters.fileids(\"gold\")\n",
    "print(f\"Number of files: {len(files)}\")\n",
    "\n",
    "corpus = START_TOKEN + \" \" + pd.Series(map(reuters.words, files)).apply(\" \".join).str.lower() + \" \" + END_TOKEN\n",
    "corpus.head()"
   ],
   "metadata": {
    "collapsed": false
   },
   "id": "bf0e57375de5ebad"
  },
  {
   "cell_type": "code",
   "execution_count": null,
   "outputs": [],
   "source": [
    "total_words = corpus.str.split(expand=True).stack()\n",
    "print(f\"Number of total words: {len(total_words)}\")\n",
    "distinct_words = list(sorted(total_words.unique()))\n",
    "print(f\"Number of distinct words: {len(distinct_words)}\")\n",
    "total_words.value_counts().head(10)"
   ],
   "metadata": {
    "collapsed": false
   },
   "id": "cae29e066bb29e83"
  },
  {
   "cell_type": "code",
   "execution_count": null,
   "outputs": [],
   "source": [
    "window_size = 4\n",
    "num_distinct_words = len(distinct_words)\n",
    "word2index = {word: i for i, word in enumerate(distinct_words)}\n",
    "co_occurrence_matrix = np.zeros((num_distinct_words, num_distinct_words))\n",
    "for sentence in corpus.apply(lambda x: x.split()).to_list():\n",
    "    for i, word in enumerate(sentence):\n",
    "        for around in sentence[max(0, i - window_size) : i] + sentence[i + 1 : i + window_size + 1]:\n",
    "            co_occurrence_matrix[word2index[word], word2index[around]] += 1\n",
    "co_occurrence_matrix = pd.DataFrame(co_occurrence_matrix, index=distinct_words, columns=distinct_words, dtype=int)\n",
    "co_occurrence_matrix.iloc[:, :10].head()"
   ],
   "metadata": {
    "collapsed": false
   },
   "id": "a751eb1fe8d93572"
  },
  {
   "cell_type": "code",
   "execution_count": null,
   "outputs": [],
   "source": [
    "reduced_co_occurrence_matrix = TruncatedSVD(n_components=2, n_iter=10).fit_transform(co_occurrence_matrix.values)\n",
    "reduced_co_occurrence_matrix = reduced_co_occurrence_matrix / np.linalg.norm(\n",
    "    reduced_co_occurrence_matrix, axis=1, keepdims=True\n",
    ")\n",
    "\n",
    "words = [\n",
    "    \"value\",\n",
    "    \"gold\",\n",
    "    \"platinum\",\n",
    "    \"reserves\",\n",
    "    \"silver\",\n",
    "    \"metals\",\n",
    "    \"copper\",\n",
    "    \"belgium\",\n",
    "    \"australia\",\n",
    "    \"china\",\n",
    "    \"grammes\",\n",
    "    \"mine\",\n",
    "]\n",
    "indices = [word2index[word] for word in words]\n",
    "\n",
    "plt.figure(figsize=(10, 10))\n",
    "plt.scatter(reduced_co_occurrence_matrix[indices, 0], reduced_co_occurrence_matrix[indices, 1])\n",
    "for i, word in zip(indices, words):\n",
    "    plt.annotate(word, xy=(reduced_co_occurrence_matrix[i, 0], reduced_co_occurrence_matrix[i, 1]))\n",
    "plt.show()"
   ],
   "metadata": {
    "collapsed": false
   },
   "id": "79a873f6c050eadf"
  }
 ],
 "metadata": {
  "kernelspec": {
   "display_name": "Python 3 (ipykernel)",
   "language": "python",
   "name": "python3"
  },
  "language_info": {
   "codemirror_mode": {
    "name": "ipython",
    "version": 3
   },
   "file_extension": ".py",
   "mimetype": "text/x-python",
   "name": "python",
   "nbconvert_exporter": "python",
   "pygments_lexer": "ipython3",
   "version": "3.10.10"
  }
 },
 "nbformat": 4,
 "nbformat_minor": 5
}
