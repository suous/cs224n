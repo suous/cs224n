{
 "cells": [
  {
   "cell_type": "code",
   "execution_count": null,
   "metadata": {},
   "outputs": [],
   "source": [
    "from collections import Counter\n",
    "\n",
    "import numpy as np\n",
    "from nltk.translate.bleu_score import sentence_bleu"
   ]
  },
  {
   "cell_type": "code",
   "execution_count": null,
   "metadata": {},
   "outputs": [],
   "source": [
    "reference_translations = [\n",
    "    \"resources have to be sufficient and they have to be predictable\",\n",
    "    \"adequate and predictable resources are required\",\n",
    "]\n",
    "translations = [\n",
    "    \"there is a need for adequate and predictable resources\",\n",
    "    \"resources be sufficient and predictable to\",\n",
    "]\n",
    "\n",
    "\n",
    "def get_ngram(sentence, n):\n",
    "    sentence = sentence.split()\n",
    "    return [\" \".join(sentence[i : i + n]) for i in range(len(sentence) - n + 1)]\n",
    "\n",
    "\n",
    "def precision(references, translation, n):\n",
    "    translation_ngram = get_ngram(translation, n)\n",
    "    references_ngram = [get_ngram(ref, n) for ref in references]\n",
    "    translation_ngram_counter = Counter(translation_ngram)\n",
    "    references_ngram_counter = [Counter(ref) for ref in references_ngram]\n",
    "    numerator = sum(\n",
    "        min(count, max(ref.get(ngram, 0) for ref in references_ngram_counter))\n",
    "        for ngram, count in translation_ngram_counter.items()\n",
    "    )\n",
    "    denominator = sum(translation_ngram_counter.values())\n",
    "    print(f\"p{n}: {numerator}/{denominator}= {numerator/denominator:.3f}\")\n",
    "    return numerator / denominator\n",
    "\n",
    "\n",
    "def brevity_penalty(references, translation):\n",
    "    c = len(translation.split())\n",
    "    rs = [len(ref.split()) for ref in references]\n",
    "    rd = [abs(r - c) for r in rs]\n",
    "    min_rd = min(rd)\n",
    "    r = min([r for r, d in zip(rs, rd) if d == min_rd])\n",
    "    print(f\"len(c): {c}\")\n",
    "    print(f\"len(r): {r}\")\n",
    "    return 1 if c > r else np.exp(1 - r / c)\n",
    "\n",
    "\n",
    "def bleu(references, translation, lambdas):\n",
    "    bp = brevity_penalty(references, translation)\n",
    "    print(f\"BP: {bp:.3f}\")\n",
    "    p = np.exp(sum(lam * np.log(precision(references, translation, i + 1)) for i, lam in enumerate(lambdas)))\n",
    "    return bp * p"
   ]
  },
  {
   "cell_type": "code",
   "execution_count": null,
   "metadata": {},
   "outputs": [],
   "source": [
    "lambdas = [0.5, 0.5]\n",
    "\n",
    "for c in translations:\n",
    "    blue_score = bleu(reference_translations, c, lambdas=lambdas)\n",
    "    nltk_blue_score = sentence_bleu(reference_translations, c, weights=lambdas)\n",
    "    print(c)\n",
    "    print(f\"BLEU: {blue_score:.3f}\")\n",
    "    print(f\"NLTK BLEU: {nltk_blue_score:.3f}\")\n",
    "    print()"
   ]
  }
 ],
 "metadata": {
  "kernelspec": {
   "display_name": "base",
   "language": "python",
   "name": "python3"
  },
  "language_info": {
   "codemirror_mode": {
    "name": "ipython",
    "version": 3
   },
   "file_extension": ".py",
   "mimetype": "text/x-python",
   "name": "python",
   "nbconvert_exporter": "python",
   "pygments_lexer": "ipython3",
   "version": "3.11.4"
  },
  "orig_nbformat": 4
 },
 "nbformat": 4,
 "nbformat_minor": 2
}
