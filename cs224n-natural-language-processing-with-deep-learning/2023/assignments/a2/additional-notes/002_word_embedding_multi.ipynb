{
 "cells": [
  {
   "cell_type": "code",
   "execution_count": null,
   "id": "9a43258f-6646-4d7a-af35-898e4d3044ea",
   "metadata": {},
   "outputs": [],
   "source": [
    "from pathlib import Path\n",
    "\n",
    "import numpy as np\n",
    "import matplotlib.pylab as plt\n",
    "from IPython.display import display\n",
    "\n",
    "from utils import seed_everything, pca, moving_average\n",
    "from word_embedding_multi import SkipGram, DataLoader\n",
    "\n",
    "seed_everything()\n",
    "\n",
    "%load_ext autoreload\n",
    "%autoreload 2"
   ]
  },
  {
   "cell_type": "code",
   "execution_count": null,
   "id": "e2c33a18-8eb6-4a8c-892a-79fac00e423d",
   "metadata": {},
   "outputs": [],
   "source": [
    "data_path = Path(\"../code/utils/datasets/stanfordSentimentTreebank/\")\n",
    "\n",
    "dataset = DataLoader(path=data_path / \"datasetSentences.txt\")\n",
    "display(dataset.df.head())\n",
    "dataset.token_freq.most_common(10)"
   ]
  },
  {
   "cell_type": "code",
   "execution_count": null,
   "id": "460c7cba-2f70-45b4-ac73-5932f0f3d0b8",
   "metadata": {},
   "outputs": [],
   "source": [
    "center_word_indices, outside_word_indices = dataset.get_random_context(num_context=5, batch_size=2)\n",
    "\n",
    "for c, o in zip(center_word_indices, outside_word_indices):\n",
    "    print(dataset.token_list[c], [dataset.token_list[w] for w in o])"
   ]
  },
  {
   "cell_type": "code",
   "execution_count": null,
   "id": "6b93d97d-df59-4fc4-9bee-84a9271dddb5",
   "metadata": {},
   "outputs": [],
   "source": [
    "model = SkipGram(dataset=dataset, vec_dim=10, num_context=5, k=10)\n",
    "model.center_word_vectors[center_word_indices].shape, model.outside_word_vectors[outside_word_indices].shape"
   ]
  },
  {
   "cell_type": "code",
   "execution_count": null,
   "id": "30ed669b-3889-4cc7-bfec-0668aa08cf5d",
   "metadata": {},
   "outputs": [],
   "source": [
    "losses = model.fit(epochs=30000, batch_size=32, lr=1e-2, anneal_every=4000, save_every=10000)"
   ]
  },
  {
   "cell_type": "code",
   "execution_count": null,
   "id": "9e589411-5bd4-4771-82b6-1f269cc95e96",
   "metadata": {},
   "outputs": [],
   "source": [
    "_, axs = plt.subplots(nrows=len(losses.keys()), figsize=(10, 10), sharex=True)\n",
    "\n",
    "for ax, (k, v) in zip(axs, losses.items()):\n",
    "    ax.plot(v)\n",
    "    ax.plot(moving_average(v, win=200))\n",
    "    ax.set_title(k)\n",
    "    ax.grid()\n",
    "plt.tight_layout()\n",
    "plt.show()"
   ]
  },
  {
   "cell_type": "code",
   "execution_count": null,
   "id": "5b9dfe4a-fbe7-4652-bd96-54d65ee43f5a",
   "metadata": {},
   "outputs": [],
   "source": [
    "words = [\n",
    "    \"great\",\n",
    "    \"cool\",\n",
    "    \"brilliant\",\n",
    "    \"wonderful\",\n",
    "    \"well\",\n",
    "    \"amazing\",\n",
    "    \"worth\",\n",
    "    \"sweet\",\n",
    "    \"enjoyable\",\n",
    "    \"boring\",\n",
    "    \"bad\",\n",
    "    \"dumb\",\n",
    "    \"annoying\",\n",
    "    \"female\",\n",
    "    \"male\",\n",
    "    \"queen\",\n",
    "    \"king\",\n",
    "    \"man\",\n",
    "    \"woman\",\n",
    "    \"rain\",\n",
    "    \"snow\",\n",
    "    \"hail\",\n",
    "    \"coffee\",\n",
    "    \"tea\",\n",
    "]\n",
    "\n",
    "word_indices = [dataset.token_dict[w] for w in words]\n",
    "result = pca(model.center_word_vectors[word_indices], 2)\n",
    "result = result / np.linalg.norm(result, axis=1, keepdims=True)\n",
    "\n",
    "plt.figure(figsize=(10, 8))\n",
    "plt.scatter(result[:, 0], result[:, 1])\n",
    "for i, word in enumerate(words):\n",
    "    plt.annotate(word, xy=(result[i, 0], result[i, 1]))\n",
    "plt.show()"
   ]
  },
  {
   "cell_type": "markdown",
   "id": "5e2044ba-7518-4f32-8224-0b55e9fe2987",
   "metadata": {},
   "source": [
    "# References\n",
    "\n",
    "- [Efficient Estimation of Word Representations in Vector Space](http://arxiv.org/pdf/1301.3781.pdf)\n",
    "- [Distributed Representations of Words and Phrases and their Compositionality](http://papers.nips.cc/paper/5021-distributed-representations-of-words-and-phrases-and-their-compositionality.pdf)\n",
    "- [Demystifying Neural Network in Skip-Gram Language Modeling](https://aegis4048.github.io/demystifying_neural_network_in_skip_gram_language_modeling#Derivation-of-Cost-Function)\n",
    "- [Optimize Computational Efficiency of Skip-Gram with Negative Sampling](https://aegis4048.github.io/optimize_computational_efficiency_of_skip-gram_with_negative_sampling)\n",
    "- [The Illustrated Word2vec](https://jalammar.github.io/illustrated-word2vec/)"
   ]
  }
 ],
 "metadata": {
  "kernelspec": {
   "display_name": "Python 3 (ipykernel)",
   "language": "python",
   "name": "python3"
  },
  "language_info": {
   "codemirror_mode": {
    "name": "ipython",
    "version": 3
   },
   "file_extension": ".py",
   "mimetype": "text/x-python",
   "name": "python",
   "nbconvert_exporter": "python",
   "pygments_lexer": "ipython3",
   "version": "3.10.10"
  }
 },
 "nbformat": 4,
 "nbformat_minor": 5
}
