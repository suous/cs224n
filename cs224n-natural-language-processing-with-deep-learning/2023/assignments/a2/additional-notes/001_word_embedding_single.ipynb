{
 "cells": [
  {
   "cell_type": "code",
   "execution_count": null,
   "id": "9a43258f-6646-4d7a-af35-898e4d3044ea",
   "metadata": {},
   "outputs": [],
   "source": [
    "from pathlib import Path\n",
    "\n",
    "import numpy as np\n",
    "import matplotlib.pylab as plt\n",
    "from IPython.display import display\n",
    "\n",
    "from utils import seed_everything, pca, moving_average\n",
    "from word_embedding_single import SkipGram, DataLoader\n",
    "\n",
    "seed_everything()\n",
    "\n",
    "%load_ext autoreload\n",
    "%autoreload 2"
   ]
  },
  {
   "cell_type": "code",
   "execution_count": null,
   "id": "e2c33a18-8eb6-4a8c-892a-79fac00e423d",
   "metadata": {},
   "outputs": [],
   "source": [
    "data_path = Path(\"../code/utils/datasets/stanfordSentimentTreebank/\")\n",
    "\n",
    "dataset = DataLoader(path=data_path / \"datasetSentences.txt\")\n",
    "display(dataset.df.head())\n",
    "dataset.token_freq.most_common(10)"
   ]
  },
  {
   "cell_type": "code",
   "execution_count": null,
   "id": "b14dfaa8-894d-4d68-ab4a-9f3695474f4d",
   "metadata": {},
   "outputs": [],
   "source": [
    "display(dataset.all_sentences[:10])\n",
    "dataset.get_random_context()"
   ]
  },
  {
   "cell_type": "code",
   "execution_count": null,
   "id": "6b93d97d-df59-4fc4-9bee-84a9271dddb5",
   "metadata": {},
   "outputs": [],
   "source": [
    "model = SkipGram(dataset=dataset, vec_dim=10)\n",
    "losses = model.fit(epochs=40000, batch_size=32, lr=0.3, anneal_every=5000, save_every=10000)"
   ]
  },
  {
   "cell_type": "code",
   "execution_count": null,
   "id": "9e589411-5bd4-4771-82b6-1f269cc95e96",
   "metadata": {},
   "outputs": [],
   "source": [
    "_, axs = plt.subplots(nrows=len(losses.keys()), figsize=(10, 10))\n",
    "\n",
    "for ax, (k, v) in zip(axs, losses.items()):\n",
    "    ax.plot(v)\n",
    "    ax.plot(moving_average(v, win=200))\n",
    "    ax.set_title(k)\n",
    "    ax.grid()\n",
    "plt.tight_layout()\n",
    "plt.show()"
   ]
  },
  {
   "cell_type": "code",
   "execution_count": null,
   "id": "5b9dfe4a-fbe7-4652-bd96-54d65ee43f5a",
   "metadata": {},
   "outputs": [],
   "source": [
    "words = [\n",
    "    \"great\",\n",
    "    \"cool\",\n",
    "    \"brilliant\",\n",
    "    \"wonderful\",\n",
    "    \"well\",\n",
    "    \"amazing\",\n",
    "    \"worth\",\n",
    "    \"sweet\",\n",
    "    \"enjoyable\",\n",
    "    \"boring\",\n",
    "    \"bad\",\n",
    "    \"dumb\",\n",
    "    \"annoying\",\n",
    "    \"female\",\n",
    "    \"male\",\n",
    "    \"queen\",\n",
    "    \"king\",\n",
    "    \"man\",\n",
    "    \"woman\",\n",
    "    \"rain\",\n",
    "    \"snow\",\n",
    "    \"hail\",\n",
    "    \"coffee\",\n",
    "    \"tea\",\n",
    "]\n",
    "\n",
    "word_indices = [dataset.token_dict[w] for w in words]\n",
    "result = pca(model.center_word_vectors[word_indices], 2)\n",
    "result = result / np.linalg.norm(result, axis=1, keepdims=True)\n",
    "\n",
    "plt.figure(figsize=(10, 8))\n",
    "plt.scatter(result[:, 0], result[:, 1])\n",
    "for i, word in enumerate(words):\n",
    "    plt.annotate(word, xy=(result[i, 0], result[i, 1]))\n",
    "plt.show()"
   ]
  }
 ],
 "metadata": {
  "kernelspec": {
   "display_name": "Python 3 (ipykernel)",
   "language": "python",
   "name": "python3"
  },
  "language_info": {
   "codemirror_mode": {
    "name": "ipython",
    "version": 3
   },
   "file_extension": ".py",
   "mimetype": "text/x-python",
   "name": "python",
   "nbconvert_exporter": "python",
   "pygments_lexer": "ipython3",
   "version": "3.10.10"
  }
 },
 "nbformat": 4,
 "nbformat_minor": 5
}
